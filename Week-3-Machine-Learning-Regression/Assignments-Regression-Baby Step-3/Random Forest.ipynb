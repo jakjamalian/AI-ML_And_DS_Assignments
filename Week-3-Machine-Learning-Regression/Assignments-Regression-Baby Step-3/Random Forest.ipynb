{
 "cells": [
  {
   "cell_type": "code",
   "execution_count": 12,
   "id": "bdbbfa32-d252-4633-a74b-1de0399135b6",
   "metadata": {},
   "outputs": [
    {
     "name": "stderr",
     "output_type": "stream",
     "text": [
      "C:\\Users\\mjamalahamed\\AppData\\Local\\anaconda3\\Lib\\site-packages\\sklearn\\base.py:1474: DataConversionWarning: A column-vector y was passed when a 1d array was expected. Please change the shape of y to (n_samples,), for example using ravel().\n",
      "  return fit_method(estimator, *args, **kwargs)\n",
      "C:\\Users\\mjamalahamed\\AppData\\Local\\anaconda3\\Lib\\site-packages\\sklearn\\base.py:1474: DataConversionWarning: A column-vector y was passed when a 1d array was expected. Please change the shape of y to (n_samples,), for example using ravel().\n",
      "  return fit_method(estimator, *args, **kwargs)\n",
      "C:\\Users\\mjamalahamed\\AppData\\Local\\anaconda3\\Lib\\site-packages\\sklearn\\base.py:1474: DataConversionWarning: A column-vector y was passed when a 1d array was expected. Please change the shape of y to (n_samples,), for example using ravel().\n",
      "  return fit_method(estimator, *args, **kwargs)\n",
      "C:\\Users\\mjamalahamed\\AppData\\Local\\anaconda3\\Lib\\site-packages\\sklearn\\base.py:1474: DataConversionWarning: A column-vector y was passed when a 1d array was expected. Please change the shape of y to (n_samples,), for example using ravel().\n",
      "  return fit_method(estimator, *args, **kwargs)\n",
      "C:\\Users\\mjamalahamed\\AppData\\Local\\anaconda3\\Lib\\site-packages\\sklearn\\base.py:1474: DataConversionWarning: A column-vector y was passed when a 1d array was expected. Please change the shape of y to (n_samples,), for example using ravel().\n",
      "  return fit_method(estimator, *args, **kwargs)\n",
      "C:\\Users\\mjamalahamed\\AppData\\Local\\anaconda3\\Lib\\site-packages\\sklearn\\base.py:1474: DataConversionWarning: A column-vector y was passed when a 1d array was expected. Please change the shape of y to (n_samples,), for example using ravel().\n",
      "  return fit_method(estimator, *args, **kwargs)\n",
      "C:\\Users\\mjamalahamed\\AppData\\Local\\anaconda3\\Lib\\site-packages\\sklearn\\base.py:1474: DataConversionWarning: A column-vector y was passed when a 1d array was expected. Please change the shape of y to (n_samples,), for example using ravel().\n",
      "  return fit_method(estimator, *args, **kwargs)\n",
      "C:\\Users\\mjamalahamed\\AppData\\Local\\anaconda3\\Lib\\site-packages\\sklearn\\base.py:1474: DataConversionWarning: A column-vector y was passed when a 1d array was expected. Please change the shape of y to (n_samples,), for example using ravel().\n",
      "  return fit_method(estimator, *args, **kwargs)\n",
      "C:\\Users\\mjamalahamed\\AppData\\Local\\anaconda3\\Lib\\site-packages\\sklearn\\base.py:1474: DataConversionWarning: A column-vector y was passed when a 1d array was expected. Please change the shape of y to (n_samples,), for example using ravel().\n",
      "  return fit_method(estimator, *args, **kwargs)\n",
      "C:\\Users\\mjamalahamed\\AppData\\Local\\anaconda3\\Lib\\site-packages\\sklearn\\base.py:1474: DataConversionWarning: A column-vector y was passed when a 1d array was expected. Please change the shape of y to (n_samples,), for example using ravel().\n",
      "  return fit_method(estimator, *args, **kwargs)\n",
      "C:\\Users\\mjamalahamed\\AppData\\Local\\anaconda3\\Lib\\site-packages\\sklearn\\base.py:1474: DataConversionWarning: A column-vector y was passed when a 1d array was expected. Please change the shape of y to (n_samples,), for example using ravel().\n",
      "  return fit_method(estimator, *args, **kwargs)\n",
      "C:\\Users\\mjamalahamed\\AppData\\Local\\anaconda3\\Lib\\site-packages\\sklearn\\base.py:1474: DataConversionWarning: A column-vector y was passed when a 1d array was expected. Please change the shape of y to (n_samples,), for example using ravel().\n",
      "  return fit_method(estimator, *args, **kwargs)\n"
     ]
    },
    {
     "name": "stdout",
     "output_type": "stream",
     "text": [
      "         Criterion max_feature   R2Score\n",
      "0    squared_error        sqrt  0.870594\n",
      "1    squared_error        log2  0.869408\n",
      "2    squared_error        None  0.852916\n",
      "3     friedman_mse        sqrt  0.871244\n",
      "4     friedman_mse        log2  0.870086\n",
      "5     friedman_mse        None  0.859668\n",
      "6   absolute_error        sqrt  0.871304\n",
      "7   absolute_error        log2  0.871485\n",
      "8   absolute_error        None  0.854397\n",
      "9          poisson        sqrt  0.871770\n",
      "10         poisson        log2  0.869911\n",
      "11         poisson        None  0.857985\n"
     ]
    }
   ],
   "source": [
    "from myLibrary import clsCommonTasks\n",
    "from sklearn.ensemble import RandomForestRegressor\n",
    "from sklearn.metrics import r2_score\n",
    "import pandas as pd\n",
    "\n",
    "x_Train, x_Test, y_Train, y_Test = clsCommonTasks.getTrain_Test_Split()\n",
    "\n",
    "# Define all kernel and C combinations\n",
    "criteria = [\"squared_error\", \"friedman_mse\", \"absolute_error\", \"poisson\"]\n",
    "max_features = [\"sqrt\", \"log2\", None]\n",
    "\n",
    "# List to store results as dictionaries for DataFrame input\n",
    "results = []\n",
    "\n",
    "# Iterate through all kernel and C combinations\n",
    "for criterion in criteria:\n",
    "    for max_feature in max_features:\n",
    "        # Initialize the SVR model with the current kernel and C value\n",
    "        regressor = RandomForestRegressor(criterion=criterion, max_features=max_feature)        \n",
    "        \n",
    "        # Fit the model and predict\n",
    "        regressor.fit(x_Train, y_Train)\n",
    "        y_Predict = regressor.predict(x_Test)\n",
    "        \n",
    "        # Calculate R² score\n",
    "        r_Score = r2_score(y_Test, y_Predict)\n",
    "        \n",
    "        # Store the result as a dictionary\n",
    "        results.append({\n",
    "            \"Criterion\": criterion,\n",
    "            \"max_feature\": max_feature,\n",
    "            \"R2Score\": r_Score\n",
    "        })\n",
    "\n",
    "# Convert results to a pandas DataFrame\n",
    "df_results = pd.DataFrame(results)\n",
    "\n",
    "# Display the DataFrame\n",
    "print(df_results)"
   ]
  },
  {
   "cell_type": "code",
   "execution_count": null,
   "id": "f1c766b0-b808-4336-891f-4be8b75fc0c5",
   "metadata": {},
   "outputs": [],
   "source": []
  }
 ],
 "metadata": {
  "kernelspec": {
   "display_name": "Python 3 (ipykernel)",
   "language": "python",
   "name": "python3"
  },
  "language_info": {
   "codemirror_mode": {
    "name": "ipython",
    "version": 3
   },
   "file_extension": ".py",
   "mimetype": "text/x-python",
   "name": "python",
   "nbconvert_exporter": "python",
   "pygments_lexer": "ipython3",
   "version": "3.12.4"
  }
 },
 "nbformat": 4,
 "nbformat_minor": 5
}
