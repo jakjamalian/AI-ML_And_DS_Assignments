{
 "cells": [
  {
   "cell_type": "code",
   "execution_count": 27,
   "id": "6f0d3118-fe8b-4c13-87d8-aecd657f51ac",
   "metadata": {},
   "outputs": [
    {
     "name": "stdout",
     "output_type": "stream",
     "text": [
      "        Criterion Splitter   R2Score\n",
      "0   squared_error     best  0.700270\n",
      "1   squared_error   random  0.652567\n",
      "2    friedman_mse     best  0.695241\n",
      "3    friedman_mse   random  0.678843\n",
      "4  absolute_error     best  0.667683\n",
      "5  absolute_error   random  0.772152\n"
     ]
    }
   ],
   "source": [
    "from myLibrary import clsCommonTasks\n",
    "from sklearn.tree import DecisionTreeRegressor\n",
    "from sklearn.metrics import r2_score\n",
    "import pandas as pd\n",
    "\n",
    "x_Train, x_Test, y_Train, y_Test = clsCommonTasks.getTrain_Test_Split()\n",
    "\n",
    "# Define all kernel and C combinations\n",
    "criteria = [\"squared_error\", \"friedman_mse\", \"absolute_error\"]\n",
    "splitters = [\"best\", \"random\"]\n",
    "\n",
    "# List to store results as dictionaries for DataFrame input\n",
    "results = []\n",
    "\n",
    "# Iterate through all kernel and C combinations\n",
    "for criterion in criteria:\n",
    "    for splitter in splitters:\n",
    "        # Initialize the SVR model with the current kernel and C value\n",
    "        regressor = DecisionTreeRegressor(criterion=criterion, splitter=splitter)\n",
    "        \n",
    "        # Fit the model and predict\n",
    "        regressor.fit(x_Train, y_Train)\n",
    "        y_Predict = regressor.predict(x_Test)\n",
    "        \n",
    "        # Calculate R² score\n",
    "        r_Score = r2_score(y_Test, y_Predict)\n",
    "        \n",
    "        # Store the result as a dictionary\n",
    "        results.append({\n",
    "            \"Criterion\": criterion,\n",
    "            \"Splitter\": splitter,\n",
    "            \"R2Score\": r_Score\n",
    "        })\n",
    "\n",
    "# Convert results to a pandas DataFrame\n",
    "df_results = pd.DataFrame(results)\n",
    "\n",
    "# Display the DataFrame\n",
    "print(df_results)"
   ]
  },
  {
   "cell_type": "code",
   "execution_count": null,
   "id": "aa370748-9a97-4726-a4c9-b6e6682de58d",
   "metadata": {},
   "outputs": [],
   "source": []
  }
 ],
 "metadata": {
  "kernelspec": {
   "display_name": "Python 3 (ipykernel)",
   "language": "python",
   "name": "python3"
  },
  "language_info": {
   "codemirror_mode": {
    "name": "ipython",
    "version": 3
   },
   "file_extension": ".py",
   "mimetype": "text/x-python",
   "name": "python",
   "nbconvert_exporter": "python",
   "pygments_lexer": "ipython3",
   "version": "3.12.4"
  }
 },
 "nbformat": 4,
 "nbformat_minor": 5
}
