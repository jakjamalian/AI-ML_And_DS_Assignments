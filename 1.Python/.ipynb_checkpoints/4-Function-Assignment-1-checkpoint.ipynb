{
 "cells": [
  {
   "cell_type": "code",
   "execution_count": null,
   "id": "38bc4da4-f183-4204-be68-10f9c3ddb9ee",
   "metadata": {},
   "outputs": [],
   "source": [
    "# Create a class and function, and list out the items in the list"
   ]
  },
  {
   "cell_type": "code",
   "execution_count": 1,
   "id": "a5f23b68-843d-43d9-a341-22b410e066d4",
   "metadata": {},
   "outputs": [],
   "source": [
    "aiSubFeilds = (\"Machine Learning\", \"Neural Networks\", \"Vision\", \"Robotics\", \"Speech Processing\", \"Natural Language Processing\" )"
   ]
  },
  {
   "cell_type": "code",
   "execution_count": 6,
   "id": "4d00f936-f1c0-4749-abaf-53d12ca4df66",
   "metadata": {},
   "outputs": [],
   "source": [
    "def DisplayAISubFeilds():\n",
    "    for aiSubFeild in aiSubFeilds:\n",
    "        print(aiSubFeild)"
   ]
  },
  {
   "cell_type": "code",
   "execution_count": 8,
   "id": "6cf34a62-48aa-4317-8d98-d7098343d992",
   "metadata": {},
   "outputs": [
    {
     "name": "stdout",
     "output_type": "stream",
     "text": [
      "Machine Learning\n",
      "Neural Networks\n",
      "Vision\n",
      "Robotics\n",
      "Speech Processing\n",
      "Natural Language Processing\n"
     ]
    }
   ],
   "source": [
    "DisplayAISubFeilds()"
   ]
  },
  {
   "cell_type": "code",
   "execution_count": null,
   "id": "42f4cda1-2f93-45de-969a-5c105eafbb96",
   "metadata": {},
   "outputs": [],
   "source": [
    "# Create a function that checks whether the given number is Odd or Eve"
   ]
  },
  {
   "cell_type": "code",
   "execution_count": 12,
   "id": "aea09467-3d44-4b9d-a107-0a668b9dbdad",
   "metadata": {},
   "outputs": [],
   "source": [
    "def CheckForODDorEven(inputNumber):\n",
    "    if ((inputNumber %2) == 0): print(\"Even\")\n",
    "    else: print(\"ODD\")"
   ]
  },
  {
   "cell_type": "code",
   "execution_count": 14,
   "id": "357a8969-d67e-41b9-badc-53c6a55ef778",
   "metadata": {},
   "outputs": [
    {
     "name": "stdout",
     "output_type": "stream",
     "text": [
      "ODD\n"
     ]
    }
   ],
   "source": [
    "CheckForODDorEven(5)"
   ]
  },
  {
   "cell_type": "code",
   "execution_count": null,
   "id": "ce067eb6-dc92-4b80-b7e3-4287d88693a8",
   "metadata": {},
   "outputs": [],
   "source": [
    "# Create a function that tells Eligibility of marriage for male and female according to their age limit like 21 for male and 18 for female"
   ]
  },
  {
   "cell_type": "code",
   "execution_count": 24,
   "id": "4ef37115-3e69-4912-8d3f-94d22138dfed",
   "metadata": {},
   "outputs": [],
   "source": [
    "def checkMarriageEligibility(age, gender):\n",
    "    print(\"Your Gender : \", gender)\n",
    "    print(\"Your Age : \", age)\n",
    "    if ((gender == \"Male\") and (age > 20)):\n",
    "        print(\"ELIGIBLE\")\n",
    "    elif ((gender == \"Female\") and (age > 17)):\n",
    "        print(\"ELIGIBLE\")\n",
    "    else:\n",
    "        print(\"NOT ELIGIBLE\")"
   ]
  },
  {
   "cell_type": "code",
   "execution_count": 26,
   "id": "c103d85a-9ee9-4ed8-9e8e-09230e1f6589",
   "metadata": {},
   "outputs": [
    {
     "name": "stdout",
     "output_type": "stream",
     "text": [
      "Your Gender :  Male\n",
      "Your Age :  31\n",
      "ELIGIBLE\n"
     ]
    }
   ],
   "source": [
    "checkMarriageEligibility(31, \"Male\")"
   ]
  },
  {
   "cell_type": "code",
   "execution_count": null,
   "id": "1f472c86-d6e2-4c15-929c-d9a7bd925790",
   "metadata": {},
   "outputs": [],
   "source": [
    "# calculate the percentage of your 10th mark"
   ]
  },
  {
   "cell_type": "code",
   "execution_count": 34,
   "id": "ae0028d5-51ca-48fe-a71f-4bdbc98244cd",
   "metadata": {},
   "outputs": [],
   "source": [
    "def calculatePercentage(M1,M2,M3,M4,M5):\n",
    "    total = M1+M2+M3+M4+M5\n",
    "    percentage = total/5\n",
    "    print(\"Subject 1 : \", M1)\n",
    "    print(\"Subject 2 : \", M2)\n",
    "    print(\"Subject 3 : \", M3)\n",
    "    print(\"Subject 4 : \", M4)\n",
    "    print(\"Subject 5 : \", M5)\n",
    "    print(\"Total Marks : \", total)\n",
    "    print(\"Percentage : \", percentage)\n",
    "    "
   ]
  },
  {
   "cell_type": "code",
   "execution_count": 36,
   "id": "d29f8c7c-7061-4f6b-98e9-d6fdaf04b057",
   "metadata": {},
   "outputs": [
    {
     "name": "stdout",
     "output_type": "stream",
     "text": [
      "Subject 1 :  90\n",
      "Subject 2 :  89\n",
      "Subject 3 :  87\n",
      "Subject 4 :  76\n",
      "Subject 5 :  67\n",
      "Total Marks :  409\n",
      "Percentage :  81.8\n"
     ]
    }
   ],
   "source": [
    "calculatePercentage(90,89,87,76,67)"
   ]
  },
  {
   "cell_type": "code",
   "execution_count": null,
   "id": "0710aac1-9f13-413f-8721-04b350f3ed4a",
   "metadata": {},
   "outputs": [],
   "source": [
    "#print area and perimeter of triangle using class and functions"
   ]
  },
  {
   "cell_type": "code",
   "execution_count": 38,
   "id": "1912f1c5-f979-41a5-80f7-5a85bf7eeee6",
   "metadata": {},
   "outputs": [],
   "source": [
    "def AreaOfTriangle(Height, Breadth):\n",
    "    Area = (Height*Breadth)/2\n",
    "    print(\"Height : \", Height)\n",
    "    print(\"Breadth : \", Breadth)\n",
    "    print(\"Area of Triangle : \", Area)    "
   ]
  },
  {
   "cell_type": "code",
   "execution_count": 40,
   "id": "c8730ff5-9d11-4478-8dd7-901960b045f7",
   "metadata": {},
   "outputs": [
    {
     "name": "stdout",
     "output_type": "stream",
     "text": [
      "Height :  32\n",
      "Breadth :  34\n",
      "Area of Triangle :  544.0\n"
     ]
    }
   ],
   "source": [
    "AreaOfTriangle(32, 34)"
   ]
  },
  {
   "cell_type": "code",
   "execution_count": 42,
   "id": "8dea29e9-95cf-45c3-9069-0c3dbe0e9249",
   "metadata": {},
   "outputs": [],
   "source": [
    "def Perimeter(Height1, Height2, Breadth):\n",
    "    Perimeter = Height1+Height2+Breadth\n",
    "    print(\"Height 1: \", Height1)\n",
    "    print(\"Height 2: \", Height2)\n",
    "    print(\"Breadth : \", Breadth)\n",
    "    print(\"Perimeter of Triangle : \", Perimeter)   "
   ]
  },
  {
   "cell_type": "code",
   "execution_count": 44,
   "id": "3335e898-e4c8-4f43-ac79-c33ba7d7c607",
   "metadata": {},
   "outputs": [
    {
     "name": "stdout",
     "output_type": "stream",
     "text": [
      "Height 1:  2\n",
      "Height 2:  4\n",
      "Breadth :  4\n",
      "Perimeter of Triangle :  10\n"
     ]
    }
   ],
   "source": [
    "Perimeter(2,4,4)"
   ]
  },
  {
   "cell_type": "code",
   "execution_count": null,
   "id": "151c4a04-5813-40bc-a216-ca343f8213d9",
   "metadata": {},
   "outputs": [],
   "source": []
  }
 ],
 "metadata": {
  "kernelspec": {
   "display_name": "Python 3 (ipykernel)",
   "language": "python",
   "name": "python3"
  },
  "language_info": {
   "codemirror_mode": {
    "name": "ipython",
    "version": 3
   },
   "file_extension": ".py",
   "mimetype": "text/x-python",
   "name": "python",
   "nbconvert_exporter": "python",
   "pygments_lexer": "ipython3",
   "version": "3.12.4"
  }
 },
 "nbformat": 4,
 "nbformat_minor": 5
}
