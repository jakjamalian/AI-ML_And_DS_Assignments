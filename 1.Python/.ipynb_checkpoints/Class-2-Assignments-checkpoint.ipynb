{
 "cells": [
  {
   "cell_type": "code",
   "execution_count": 1,
   "id": "ddd9f277-7dc2-4afb-973d-2c4f054a58ed",
   "metadata": {},
   "outputs": [],
   "source": [
    "from Class2LibraryFile import clsLibrary"
   ]
  },
  {
   "cell_type": "code",
   "execution_count": 3,
   "id": "b066e71c-aeed-4b12-8e10-e1ec44ec8b26",
   "metadata": {},
   "outputs": [
    {
     "name": "stdout",
     "output_type": "stream",
     "text": [
      "Machine Learning\n",
      "Neural Networks\n",
      "Vision\n",
      "Robotics\n",
      "Speech Processing\n",
      "Natural Language Processing\n"
     ]
    }
   ],
   "source": [
    "clsLibrary.DisplayAISubFeilds()"
   ]
  },
  {
   "cell_type": "code",
   "execution_count": 5,
   "id": "0e8f1a2c-ace1-43dc-837e-5680d745601f",
   "metadata": {},
   "outputs": [
    {
     "name": "stdout",
     "output_type": "stream",
     "text": [
      "ODD\n"
     ]
    }
   ],
   "source": [
    "clsLibrary.CheckForODDorEven(5)"
   ]
  },
  {
   "cell_type": "code",
   "execution_count": 7,
   "id": "c2a65e11-0f03-438e-a96c-3039f9631b6b",
   "metadata": {},
   "outputs": [
    {
     "name": "stdout",
     "output_type": "stream",
     "text": [
      "Your Gender :  Male\n",
      "Your Age :  31\n",
      "ELIGIBLE\n"
     ]
    }
   ],
   "source": [
    "clsLibrary.checkMarriageEligibility(31, \"Male\")"
   ]
  },
  {
   "cell_type": "code",
   "execution_count": 9,
   "id": "ba7c5084-cd8d-4261-88b8-cd5111501b60",
   "metadata": {},
   "outputs": [
    {
     "name": "stdout",
     "output_type": "stream",
     "text": [
      "Subject 1 :  90\n",
      "Subject 2 :  89\n",
      "Subject 3 :  87\n",
      "Subject 4 :  76\n",
      "Subject 5 :  67\n",
      "Total Marks :  409\n",
      "Percentage :  81.8\n"
     ]
    }
   ],
   "source": [
    "clsLibrary.calculatePercentage(90,89,87,76,67)"
   ]
  },
  {
   "cell_type": "code",
   "execution_count": 11,
   "id": "96c15f61-5d4e-4f35-8118-1ac605572865",
   "metadata": {},
   "outputs": [
    {
     "name": "stdout",
     "output_type": "stream",
     "text": [
      "Height :  32\n",
      "Breadth :  34\n",
      "Area of Triangle :  544.0\n"
     ]
    }
   ],
   "source": [
    "clsLibrary.AreaOfTriangle(32, 34)"
   ]
  },
  {
   "cell_type": "code",
   "execution_count": 13,
   "id": "6a1125ae-b7d7-4819-a759-e0eb4ddbfaee",
   "metadata": {},
   "outputs": [
    {
     "name": "stdout",
     "output_type": "stream",
     "text": [
      "Height 1:  2\n",
      "Height 2:  4\n",
      "Breadth :  4\n",
      "Perimeter of Triangle :  10\n"
     ]
    }
   ],
   "source": [
    "clsLibrary.Perimeter(2,4,4)"
   ]
  },
  {
   "cell_type": "code",
   "execution_count": null,
   "id": "e01e73c6-cac7-486e-8649-22482d247ad3",
   "metadata": {},
   "outputs": [],
   "source": []
  }
 ],
 "metadata": {
  "kernelspec": {
   "display_name": "Python 3 (ipykernel)",
   "language": "python",
   "name": "python3"
  },
  "language_info": {
   "codemirror_mode": {
    "name": "ipython",
    "version": 3
   },
   "file_extension": ".py",
   "mimetype": "text/x-python",
   "name": "python",
   "nbconvert_exporter": "python",
   "pygments_lexer": "ipython3",
   "version": "3.12.4"
  }
 },
 "nbformat": 4,
 "nbformat_minor": 5
}
