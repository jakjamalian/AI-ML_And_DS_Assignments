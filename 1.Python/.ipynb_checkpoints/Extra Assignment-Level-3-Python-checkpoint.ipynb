{
 "cells": [
  {
   "cell_type": "code",
   "execution_count": 3,
   "id": "f4dfeab9-7c6f-4c9c-92fb-37e407ff4dc9",
   "metadata": {},
   "outputs": [
    {
     "name": "stdout",
     "output_type": "stream",
     "text": [
      "Correct\n"
     ]
    }
   ],
   "source": [
    "# print 'CORRECT' if i == 10\n",
    "i = 10\n",
    "if (i == 10):\n",
    "    print(\"Correct\")\n",
    "else:\n",
    "    print(\"Wrong\")\n",
    "    "
   ]
  },
  {
   "cell_type": "code",
   "execution_count": 11,
   "id": "968d8503-338c-4d70-a544-742963ca3b37",
   "metadata": {},
   "outputs": [
    {
     "name": "stdin",
     "output_type": "stream",
     "text": [
      "Enter the password:  HOPE@123\n"
     ]
    },
    {
     "name": "stdout",
     "output_type": "stream",
     "text": [
      "Your password is correct\n"
     ]
    }
   ],
   "source": [
    "# Check the password, using if and else\n",
    "pwd = input(\"Enter the password: \")\n",
    "if (pwd == \"HOPE@123\"):\n",
    "    print(\"Your password is correct\")\n",
    "else:\n",
    "    print(\"Your password is Wrong\")"
   ]
  },
  {
   "cell_type": "code",
   "execution_count": 15,
   "id": "20d58d77-78e3-471f-af9e-82c26f1ca4c2",
   "metadata": {},
   "outputs": [
    {
     "name": "stdin",
     "output_type": "stream",
     "text": [
      "Enter your age:  35\n"
     ]
    },
    {
     "name": "stdout",
     "output_type": "stream",
     "text": [
      "Adult\n"
     ]
    }
   ],
   "source": [
    "# Catagory the people by their age like children, adult, citizen, senior citizen...\n",
    "age = int(input(\"Enter your age: \"))\n",
    "\n",
    "if age < 17:\n",
    "    print(\"Children\")\n",
    "elif age < 40:\n",
    "    print(\"Adult\")\n",
    "elif age < 60:\n",
    "    print(\"Citizen\")\n",
    "else:\n",
    "    print(\"Senior citizen\")\n"
   ]
  },
  {
   "cell_type": "code",
   "execution_count": 19,
   "id": "8342e54e-880a-430d-91fe-467cfc75e56b",
   "metadata": {},
   "outputs": [
    {
     "name": "stdin",
     "output_type": "stream",
     "text": [
      "Enter number  23\n"
     ]
    },
    {
     "name": "stdout",
     "output_type": "stream",
     "text": [
      "Number  23  is positive\n"
     ]
    }
   ],
   "source": [
    "# Find whether given number is positive or negative\n",
    "number = int(input(\"Enter number \"))\n",
    "if (number > -1):\n",
    "    print (\"Number \", number, \" is positive\")\n",
    "else:\n",
    "    print (\"Number \", number, \" is negative\")"
   ]
  },
  {
   "cell_type": "code",
   "execution_count": 23,
   "id": "a5df8605-cb20-4f1a-a8b4-bf0d83b2824d",
   "metadata": {},
   "outputs": [
    {
     "name": "stdin",
     "output_type": "stream",
     "text": [
      "Enter number  56\n"
     ]
    },
    {
     "name": "stdout",
     "output_type": "stream",
     "text": [
      "Number  56  is not divisible by 5\n"
     ]
    }
   ],
   "source": [
    "# Check whether the given number is divisible by 5\n",
    "number = int(input(\"Enter number \"))\n",
    "if ((number % 5) == 0):\n",
    "    print (\"Number \", number, \" is divisible by 5\")\n",
    "else:\n",
    "    print (\"Number \", number, \" is not divisible by 5\")"
   ]
  },
  {
   "cell_type": "code",
   "execution_count": null,
   "id": "ddb137f2-b8c5-47c9-aa7e-c048de363a95",
   "metadata": {},
   "outputs": [],
   "source": []
  }
 ],
 "metadata": {
  "kernelspec": {
   "display_name": "Python 3 (ipykernel)",
   "language": "python",
   "name": "python3"
  },
  "language_info": {
   "codemirror_mode": {
    "name": "ipython",
    "version": 3
   },
   "file_extension": ".py",
   "mimetype": "text/x-python",
   "name": "python",
   "nbconvert_exporter": "python",
   "pygments_lexer": "ipython3",
   "version": "3.12.4"
  }
 },
 "nbformat": 4,
 "nbformat_minor": 5
}
