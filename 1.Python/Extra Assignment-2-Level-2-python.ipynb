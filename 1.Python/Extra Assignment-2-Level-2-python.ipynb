{
 "cells": [
  {
   "cell_type": "code",
   "execution_count": 1,
   "id": "e0436b26-e5e3-46aa-a895-52c09a6d8037",
   "metadata": {},
   "outputs": [
    {
     "name": "stdout",
     "output_type": "stream",
     "text": [
      "0\n",
      "1\n",
      "2\n",
      "3\n",
      "4\n",
      "5\n",
      "6\n",
      "7\n",
      "8\n",
      "9\n",
      "10\n",
      "11\n",
      "12\n",
      "13\n",
      "14\n",
      "15\n",
      "16\n",
      "17\n",
      "18\n",
      "19\n"
     ]
    }
   ],
   "source": [
    "# print 0 to 20 by using range\n",
    "for index in range(0, 20):\n",
    "    print (index)"
   ]
  },
  {
   "cell_type": "code",
   "execution_count": 3,
   "id": "270012ca-4643-433d-b3f0-ac888744c0e9",
   "metadata": {},
   "outputs": [
    {
     "name": "stdout",
     "output_type": "stream",
     "text": [
      "10\n",
      "11\n",
      "12\n",
      "13\n",
      "14\n",
      "15\n",
      "16\n",
      "17\n",
      "18\n",
      "19\n"
     ]
    }
   ],
   "source": [
    "# print range 10 to 20\n",
    "for index in range(10, 20):\n",
    "    print (index)"
   ]
  },
  {
   "cell_type": "code",
   "execution_count": 7,
   "id": "0d86c771-cff1-45b0-a502-428f3de686c4",
   "metadata": {},
   "outputs": [
    {
     "name": "stdout",
     "output_type": "stream",
     "text": [
      "Number of item in the List:  7\n"
     ]
    }
   ],
   "source": [
    "# Print number of items in the list by using 'len'\n",
    "itemsList = [10, 20, 14, 55, 43, 87, 76]\n",
    "noOfItems = len(itemsList)\n",
    "print(\"Number of item in the List: \", noOfItems)\n"
   ]
  },
  {
   "cell_type": "code",
   "execution_count": 11,
   "id": "66239d3d-3a62-483e-8c9a-19999e93db87",
   "metadata": {},
   "outputs": [
    {
     "name": "stdout",
     "output_type": "stream",
     "text": [
      "A\n",
      "r\n",
      "t\n",
      "i\n",
      "f\n",
      "i\n",
      "c\n",
      "i\n",
      "a\n",
      "l\n",
      " \n",
      "I\n",
      "n\n",
      "t\n",
      "e\n",
      "l\n",
      "l\n",
      "i\n",
      "g\n",
      "e\n",
      "n\n",
      "c\n",
      "e\n"
     ]
    }
   ],
   "source": [
    "inputText = \"Artificial Intelligence\"\n",
    "for eachLetter in inputText:\n",
    "    print(eachLetter)"
   ]
  },
  {
   "cell_type": "code",
   "execution_count": 13,
   "id": "46c906ed-6e95-4f1e-8790-295fbee6c508",
   "metadata": {},
   "outputs": [
    {
     "name": "stdout",
     "output_type": "stream",
     "text": [
      "- Your Name - \n",
      "- Your Age - \n",
      "- Your Profession - \n"
     ]
    }
   ],
   "source": [
    "print(\"- Your Name - \")\n",
    "print(\"- Your Age - \")\n",
    "print(\"- Your Profession - \")"
   ]
  },
  {
   "cell_type": "code",
   "execution_count": 15,
   "id": "9d6bda28-cf29-4c77-81ac-da9ed619de21",
   "metadata": {},
   "outputs": [
    {
     "name": "stdout",
     "output_type": "stream",
     "text": [
      "(1, 'Welcome', 2, 'Hope')\n"
     ]
    }
   ],
   "source": [
    "# Print yhis mixered datatype using Tuples\n",
    "mixed_datatypes = (1, 'Welcome', 2, 'Hope')\n",
    "print(mixed_datatypes)"
   ]
  },
  {
   "cell_type": "code",
   "execution_count": 17,
   "id": "637d84aa-d365-483d-942f-fd4129829110",
   "metadata": {},
   "outputs": [
    {
     "name": "stdout",
     "output_type": "stream",
     "text": [
      "((0, 1, 2, 3), ('python', 'hope'))\n"
     ]
    }
   ],
   "source": [
    "Tuple1 = (0, 1, 2, 3)\n",
    "Tuple2 = ('python', 'hope')\n",
    "Tuple3 = (Tuple1, Tuple2)\n",
    "print(Tuple3)"
   ]
  },
  {
   "cell_type": "code",
   "execution_count": 19,
   "id": "fb5b1b63-0c71-403b-8695-d8793509b649",
   "metadata": {},
   "outputs": [
    {
     "name": "stdout",
     "output_type": "stream",
     "text": [
      "19\n",
      "25\n",
      "1\n"
     ]
    }
   ],
   "source": [
    "# print Odd Numbers in the list - (20,10,16,19,25,1,276,188)\n",
    "inputNumbers = (20,10,16,19,25,1,276,188)\n",
    "for number in inputNumbers:\n",
    "    if ((number % 2) == 1):\n",
    "        print(number)"
   ]
  },
  {
   "cell_type": "code",
   "execution_count": 21,
   "id": "1824d80e-894a-4f78-9b3d-2b95e180b75d",
   "metadata": {},
   "outputs": [
    {
     "name": "stdout",
     "output_type": "stream",
     "text": [
      "20\n",
      "10\n",
      "16\n",
      "276\n",
      "188\n"
     ]
    }
   ],
   "source": [
    "# print Even Numbers in the list - (20,10,16,19,25,1,276,188)\n",
    "inputNumbers = (20,10,16,19,25,1,276,188)\n",
    "for number in inputNumbers:\n",
    "    if ((number % 2) == 0):\n",
    "        print(number)"
   ]
  },
  {
   "cell_type": "code",
   "execution_count": null,
   "id": "1f9c58c9-1797-4af9-afaa-73cccccfccb0",
   "metadata": {},
   "outputs": [],
   "source": []
  }
 ],
 "metadata": {
  "kernelspec": {
   "display_name": "Python 3 (ipykernel)",
   "language": "python",
   "name": "python3"
  },
  "language_info": {
   "codemirror_mode": {
    "name": "ipython",
    "version": 3
   },
   "file_extension": ".py",
   "mimetype": "text/x-python",
   "name": "python",
   "nbconvert_exporter": "python",
   "pygments_lexer": "ipython3",
   "version": "3.12.4"
  }
 },
 "nbformat": 4,
 "nbformat_minor": 5
}
