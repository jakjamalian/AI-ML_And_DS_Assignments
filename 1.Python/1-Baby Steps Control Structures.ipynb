{
 "cells": [
  {
   "cell_type": "code",
   "execution_count": 1,
   "id": "52349b03-e78d-4bd6-90af-648fb0ec6ca6",
   "metadata": {},
   "outputs": [
    {
     "name": "stdout",
     "output_type": "stream",
     "text": [
      "Welcome to Assignment-1\n"
     ]
    }
   ],
   "source": [
    "print(\"Welcome to Assignment-1\")"
   ]
  },
  {
   "cell_type": "code",
   "execution_count": 7,
   "id": "5b45a287-062f-48dc-bd04-4fd3d36039d2",
   "metadata": {},
   "outputs": [
    {
     "name": "stdout",
     "output_type": "stream",
     "text": [
      "Num1 =  10\n",
      "Num2 =  30\n",
      "Add =  40\n"
     ]
    }
   ],
   "source": [
    "Num1 = 10\n",
    "Num2 = 30\n",
    "Add = 40\n",
    "\n",
    "print(\"Num1 = \", Num1)\n",
    "print(\"Num2 = \", Num2)\n",
    "print(\"Add = \", Num1 + Num2)"
   ]
  },
  {
   "cell_type": "code",
   "execution_count": 1,
   "id": "4b65cbfa-d8dc-4c76-a7a5-8a6c3c4f6dd8",
   "metadata": {},
   "outputs": [
    {
     "name": "stdin",
     "output_type": "stream",
     "text": [
      "Enter the BMI Index :  54\n"
     ]
    },
    {
     "name": "stdout",
     "output_type": "stream",
     "text": [
      "Extreme Obesity (Class III)\n"
     ]
    }
   ],
   "source": [
    "BMI = float(input(\"Enter the BMI Index : \"))\n",
    "\n",
    "if (BMI < 18.5):\n",
    "    print(\"Underweight\")\n",
    "elif (BMI < 24.9):\n",
    "    print(\"Normal weight\")\n",
    "elif (BMI < 29.9):\n",
    "    print(\"Overweight\")\n",
    "elif (BMI < 34.9):\n",
    "    print(\"Very Overweight Obesity (Class I)\")\n",
    "elif (BMI < 39.9):\n",
    "    print(\"Obesity (Class II)\")\n",
    "else:\n",
    "    print(\"Extreme Obesity (Class III)\")"
   ]
  },
  {
   "cell_type": "code",
   "execution_count": null,
   "id": "653f4f0b-1353-4f73-9fef-84e7435b8b1e",
   "metadata": {},
   "outputs": [],
   "source": []
  }
 ],
 "metadata": {
  "kernelspec": {
   "display_name": "Python 3 (ipykernel)",
   "language": "python",
   "name": "python3"
  },
  "language_info": {
   "codemirror_mode": {
    "name": "ipython",
    "version": 3
   },
   "file_extension": ".py",
   "mimetype": "text/x-python",
   "name": "python",
   "nbconvert_exporter": "python",
   "pygments_lexer": "ipython3",
   "version": "3.12.4"
  }
 },
 "nbformat": 4,
 "nbformat_minor": 5
}
