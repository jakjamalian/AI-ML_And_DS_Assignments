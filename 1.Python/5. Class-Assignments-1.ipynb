{
 "cells": [
  {
   "cell_type": "code",
   "execution_count": null,
   "id": "38bc4da4-f183-4204-be68-10f9c3ddb9ee",
   "metadata": {},
   "outputs": [],
   "source": [
    "# Create a class and function, and list out the items in the list"
   ]
  },
  {
   "cell_type": "code",
   "execution_count": 3,
   "id": "0ee160d3-1861-4368-b955-be22618f4bb8",
   "metadata": {},
   "outputs": [],
   "source": [
    "class AIFeilds():\n",
    "    def DisplayAISubFeilds(aiSubFeilds):\n",
    "        for aiSubFeild in aiSubFeilds:\n",
    "            print(aiSubFeild)"
   ]
  },
  {
   "cell_type": "code",
   "execution_count": 7,
   "id": "a5f23b68-843d-43d9-a341-22b410e066d4",
   "metadata": {},
   "outputs": [
    {
     "name": "stdout",
     "output_type": "stream",
     "text": [
      "Machine Learning\n",
      "Neural Networks\n",
      "Vision\n",
      "Robotics\n",
      "Speech Processing\n",
      "Natural Language Processing\n"
     ]
    }
   ],
   "source": [
    "aiSubFeilds = (\"Machine Learning\", \"Neural Networks\", \"Vision\", \"Robotics\", \"Speech Processing\", \"Natural Language Processing\")\n",
    "AIFeilds.DisplayAISubFeilds(aiSubFeilds)"
   ]
  },
  {
   "cell_type": "code",
   "execution_count": null,
   "id": "42f4cda1-2f93-45de-969a-5c105eafbb96",
   "metadata": {},
   "outputs": [],
   "source": [
    "# Create a function that checks whether the given number is Odd or Eve"
   ]
  },
  {
   "cell_type": "code",
   "execution_count": 11,
   "id": "aea09467-3d44-4b9d-a107-0a668b9dbdad",
   "metadata": {},
   "outputs": [],
   "source": [
    "class clsODDEven():    \n",
    "    def CheckForODDorEven(inputNumber):\n",
    "        if ((inputNumber %2) == 0): print(\"Even\")\n",
    "        else: print(\"ODD\")"
   ]
  },
  {
   "cell_type": "code",
   "execution_count": 15,
   "id": "357a8969-d67e-41b9-badc-53c6a55ef778",
   "metadata": {},
   "outputs": [
    {
     "name": "stdout",
     "output_type": "stream",
     "text": [
      "Even\n"
     ]
    }
   ],
   "source": [
    "clsODDEven.CheckForODDorEven(6)"
   ]
  },
  {
   "cell_type": "code",
   "execution_count": null,
   "id": "ce067eb6-dc92-4b80-b7e3-4287d88693a8",
   "metadata": {},
   "outputs": [],
   "source": [
    "# Create a function that tells Eligibility of marriage for male and female according to their age limit like 21 for male and 18 for female"
   ]
  },
  {
   "cell_type": "code",
   "execution_count": 19,
   "id": "4ef37115-3e69-4912-8d3f-94d22138dfed",
   "metadata": {},
   "outputs": [],
   "source": [
    "class ElegiblityForMarriage():    \n",
    "    def checkMarriageEligibility(age, gender):\n",
    "        print(\"Your Gender : \", gender)\n",
    "        print(\"Your Age : \", age)\n",
    "        if ((gender == \"Male\") and (age > 20)):\n",
    "            print(\"ELIGIBLE\")\n",
    "        elif ((gender == \"Female\") and (age > 17)):\n",
    "            print(\"ELIGIBLE\")\n",
    "        else:\n",
    "            print(\"NOT ELIGIBLE\")\n"
   ]
  },
  {
   "cell_type": "code",
   "execution_count": 23,
   "id": "c103d85a-9ee9-4ed8-9e8e-09230e1f6589",
   "metadata": {},
   "outputs": [
    {
     "name": "stdout",
     "output_type": "stream",
     "text": [
      "Your Gender :  Male\n",
      "Your Age :  17\n",
      "NOT ELIGIBLE\n"
     ]
    }
   ],
   "source": [
    "ElegiblityForMarriage.checkMarriageEligibility(17, \"Male\")"
   ]
  },
  {
   "cell_type": "code",
   "execution_count": null,
   "id": "1f472c86-d6e2-4c15-929c-d9a7bd925790",
   "metadata": {},
   "outputs": [],
   "source": [
    "# calculate the percentage of your 10th mark"
   ]
  },
  {
   "cell_type": "code",
   "execution_count": 25,
   "id": "ae0028d5-51ca-48fe-a71f-4bdbc98244cd",
   "metadata": {},
   "outputs": [],
   "source": [
    "class FindPercent():   \n",
    "    def calculatePercentage(M1,M2,M3,M4,M5):\n",
    "        total = M1+M2+M3+M4+M5\n",
    "        percentage = total/5\n",
    "        print(\"Subject 1 : \", M1)\n",
    "        print(\"Subject 2 : \", M2)\n",
    "        print(\"Subject 3 : \", M3)\n",
    "        print(\"Subject 4 : \", M4)\n",
    "        print(\"Subject 5 : \", M5)\n",
    "        print(\"Total Marks : \", total)\n",
    "        print(\"Percentage : \", percentage)\n",
    "        "
   ]
  },
  {
   "cell_type": "code",
   "execution_count": 27,
   "id": "d29f8c7c-7061-4f6b-98e9-d6fdaf04b057",
   "metadata": {},
   "outputs": [
    {
     "name": "stdout",
     "output_type": "stream",
     "text": [
      "Subject 1 :  90\n",
      "Subject 2 :  89\n",
      "Subject 3 :  87\n",
      "Subject 4 :  76\n",
      "Subject 5 :  67\n",
      "Total Marks :  409\n",
      "Percentage :  81.8\n"
     ]
    }
   ],
   "source": [
    "FindPercent.calculatePercentage(90,89,87,76,67)"
   ]
  },
  {
   "cell_type": "code",
   "execution_count": null,
   "id": "0710aac1-9f13-413f-8721-04b350f3ed4a",
   "metadata": {},
   "outputs": [],
   "source": [
    "#print area and perimeter of triangle using class and functions"
   ]
  },
  {
   "cell_type": "code",
   "execution_count": 29,
   "id": "1912f1c5-f979-41a5-80f7-5a85bf7eeee6",
   "metadata": {},
   "outputs": [],
   "source": [
    "class triangle():   \n",
    "    def AreaOfTriangle(Height, Breadth):\n",
    "        Area = (Height*Breadth)/2\n",
    "        print(\"Height : \", Height)\n",
    "        print(\"Breadth : \", Breadth)\n",
    "        print(\"Area of Triangle : \", Area)  \n",
    "    \n",
    "    def Perimeter(Height1, Height2, Breadth):\n",
    "        Perimeter = Height1+Height2+Breadth\n",
    "        print(\"Height 1: \", Height1)\n",
    "        print(\"Height 2: \", Height2)\n",
    "        print(\"Breadth : \", Breadth)\n",
    "        print(\"Perimeter of Triangle : \", Perimeter)  "
   ]
  },
  {
   "cell_type": "code",
   "execution_count": 31,
   "id": "c8730ff5-9d11-4478-8dd7-901960b045f7",
   "metadata": {},
   "outputs": [
    {
     "name": "stdout",
     "output_type": "stream",
     "text": [
      "Height :  32\n",
      "Breadth :  34\n",
      "Area of Triangle :  544.0\n"
     ]
    }
   ],
   "source": [
    "triangle.AreaOfTriangle(32, 34)"
   ]
  },
  {
   "cell_type": "code",
   "execution_count": 33,
   "id": "3335e898-e4c8-4f43-ac79-c33ba7d7c607",
   "metadata": {},
   "outputs": [
    {
     "name": "stdout",
     "output_type": "stream",
     "text": [
      "Height 1:  2\n",
      "Height 2:  4\n",
      "Breadth :  4\n",
      "Perimeter of Triangle :  10\n"
     ]
    }
   ],
   "source": [
    "triangle.Perimeter(2,4,4)"
   ]
  },
  {
   "cell_type": "code",
   "execution_count": null,
   "id": "151c4a04-5813-40bc-a216-ca343f8213d9",
   "metadata": {},
   "outputs": [],
   "source": []
  }
 ],
 "metadata": {
  "kernelspec": {
   "display_name": "Python 3 (ipykernel)",
   "language": "python",
   "name": "python3"
  },
  "language_info": {
   "codemirror_mode": {
    "name": "ipython",
    "version": 3
   },
   "file_extension": ".py",
   "mimetype": "text/x-python",
   "name": "python",
   "nbconvert_exporter": "python",
   "pygments_lexer": "ipython3",
   "version": "3.12.4"
  }
 },
 "nbformat": 4,
 "nbformat_minor": 5
}
