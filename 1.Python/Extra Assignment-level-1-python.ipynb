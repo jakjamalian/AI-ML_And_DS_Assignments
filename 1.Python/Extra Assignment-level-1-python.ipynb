{
 "cells": [
  {
   "cell_type": "code",
   "execution_count": 1,
   "id": "cf23c1dc-3a49-44be-bff6-233677bcedba",
   "metadata": {},
   "outputs": [
    {
     "name": "stdout",
     "output_type": "stream",
     "text": [
      "Hope AI\n"
     ]
    }
   ],
   "source": [
    "#print Statement\n",
    "print (\"Hope AI\")"
   ]
  },
  {
   "cell_type": "code",
   "execution_count": 5,
   "id": "23cbaef3-70d1-48c7-9692-9d5212a9d721",
   "metadata": {},
   "outputs": [
    {
     "name": "stdin",
     "output_type": "stream",
     "text": [
      "Enter your institute name? :  Hope AI\n"
     ]
    }
   ],
   "source": [
    "# Buy input \n",
    "instituteName = input(\"Enter your institute name? : \")\n"
   ]
  },
  {
   "cell_type": "code",
   "execution_count": 7,
   "id": "d8adbf2b-59da-49cd-87a2-3ec8bc1b6710",
   "metadata": {},
   "outputs": [
    {
     "name": "stdin",
     "output_type": "stream",
     "text": [
      "Enter your name:  Mohamed Ibrahim\n",
      "Enter your age:  44\n",
      "Enter your school name:  MNM School\n",
      "Enter your drgree:  MCA\n"
     ]
    }
   ],
   "source": [
    "# Buy inputs \n",
    "name = input(\"Enter your name: \")\n",
    "age = int(input(\"Enter your age: \"))\n",
    "name = input(\"Enter your school name: \")\n",
    "name = input(\"Enter your drgree: \")"
   ]
  },
  {
   "cell_type": "code",
   "execution_count": 9,
   "id": "27a9da82-3c0f-41cf-a661-d3ffaab9e662",
   "metadata": {},
   "outputs": [
    {
     "name": "stdout",
     "output_type": "stream",
     "text": [
      "a =  55\n",
      "b =  21\n",
      "Add =  76\n"
     ]
    }
   ],
   "source": [
    "#Addition\n",
    "a = 55\n",
    "b = 21\n",
    "ans = a + b\n",
    "print(\"a = \", a)\n",
    "print(\"b = \", b)\n",
    "print(\"Add = \", ans)"
   ]
  },
  {
   "cell_type": "code",
   "execution_count": 11,
   "id": "1c323da8-ba56-430b-9b4c-0035d43043aa",
   "metadata": {},
   "outputs": [
    {
     "name": "stdout",
     "output_type": "stream",
     "text": [
      "a =  55\n",
      "b =  21\n",
      "Sub =  34\n"
     ]
    }
   ],
   "source": [
    "#Subtraction\n",
    "a = 55\n",
    "b = 21\n",
    "ans = a - b\n",
    "print(\"a = \", a)\n",
    "print(\"b = \", b)\n",
    "print(\"Sub = \", ans)"
   ]
  },
  {
   "cell_type": "code",
   "execution_count": 13,
   "id": "97354bd1-e9ad-4a88-a92e-c6d95c05e2f2",
   "metadata": {},
   "outputs": [
    {
     "name": "stdout",
     "output_type": "stream",
     "text": [
      "a =  55\n",
      "b =  21\n",
      "Mul =  1155\n"
     ]
    }
   ],
   "source": [
    "#Multiplication\n",
    "a = 55\n",
    "b = 21\n",
    "ans = a * b\n",
    "print(\"a = \", a)\n",
    "print(\"b = \", b)\n",
    "print(\"Mul = \", ans)"
   ]
  },
  {
   "cell_type": "code",
   "execution_count": 19,
   "id": "dc554e9c-c4bd-45ed-847c-5b2e138c29b6",
   "metadata": {},
   "outputs": [
    {
     "name": "stdout",
     "output_type": "stream",
     "text": [
      "a =  76\n",
      "b =  31\n",
      "Float Div =  2.4516129032258065\n"
     ]
    }
   ],
   "source": [
    "#Division\n",
    "a = 76\n",
    "b = 31\n",
    "ans = a / b\n",
    "print(\"a = \", a)\n",
    "print(\"b = \", b)\n",
    "print(\"Float Div = \", ans)"
   ]
  },
  {
   "cell_type": "code",
   "execution_count": 21,
   "id": "2a390274-effb-4171-ae26-3481c2bdedc3",
   "metadata": {},
   "outputs": [
    {
     "name": "stdout",
     "output_type": "stream",
     "text": [
      "a =  76\n",
      "b =  31\n",
      "Floor Div =  2\n"
     ]
    }
   ],
   "source": [
    "#Floor #Division\n",
    "a = 76\n",
    "b = 31\n",
    "ans = a // b\n",
    "print(\"a = \", a)\n",
    "print(\"b = \", b)\n",
    "print(\"Floor Div = \", ans)"
   ]
  },
  {
   "cell_type": "code",
   "execution_count": 23,
   "id": "f3f4f6e1-ee2e-4a8a-b2f1-c7ea92d3c8e4",
   "metadata": {},
   "outputs": [
    {
     "name": "stdout",
     "output_type": "stream",
     "text": [
      "a =  76\n",
      "b =  31\n",
      "Modulus =  14\n"
     ]
    }
   ],
   "source": [
    "#Modulus\n",
    "a = 76\n",
    "b = 31\n",
    "ans = a % b\n",
    "print(\"a = \", a)\n",
    "print(\"b = \", b)\n",
    "print(\"Modulus = \", ans)"
   ]
  },
  {
   "cell_type": "code",
   "execution_count": 29,
   "id": "9de612b3-fb86-4a4a-8911-ea2a4459ce40",
   "metadata": {},
   "outputs": [
    {
     "name": "stdout",
     "output_type": "stream",
     "text": [
      "a =  4\n",
      "b =  4\n",
      "Modulus =  256\n"
     ]
    }
   ],
   "source": [
    "#Power\n",
    "a = 4\n",
    "b = 4\n",
    "ans = a ** b\n",
    "#ans = pow(a,  b)\n",
    "print(\"a = \", a)\n",
    "print(\"b = \", b)\n",
    "print(\"Modulus = \", ans)"
   ]
  },
  {
   "cell_type": "code",
   "execution_count": null,
   "id": "e96216e7-58a9-4c2b-8fcd-8cc55258afad",
   "metadata": {},
   "outputs": [],
   "source": []
  }
 ],
 "metadata": {
  "kernelspec": {
   "display_name": "Python 3 (ipykernel)",
   "language": "python",
   "name": "python3"
  },
  "language_info": {
   "codemirror_mode": {
    "name": "ipython",
    "version": 3
   },
   "file_extension": ".py",
   "mimetype": "text/x-python",
   "name": "python",
   "nbconvert_exporter": "python",
   "pygments_lexer": "ipython3",
   "version": "3.12.4"
  }
 },
 "nbformat": 4,
 "nbformat_minor": 5
}
