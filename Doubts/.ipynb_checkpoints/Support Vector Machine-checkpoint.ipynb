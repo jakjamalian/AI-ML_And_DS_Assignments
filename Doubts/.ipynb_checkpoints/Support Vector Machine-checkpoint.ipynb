{
 "cells": [
  {
   "cell_type": "code",
   "execution_count": 1,
   "id": "b9d41b9f-033f-4e1b-baee-ecb2b9d69a03",
   "metadata": {},
   "outputs": [],
   "source": [
    "import pandas as pd\n",
    "from sklearn.svm import SVR\n",
    "from sklearn.model_selection import GridSearchCV"
   ]
  },
  {
   "cell_type": "code",
   "execution_count": 3,
   "id": "f125ba09-02ec-4a04-ad54-0c82f89acb4c",
   "metadata": {},
   "outputs": [],
   "source": [
    "dataSet = pd.read_csv(\"50_Startups.csv\")"
   ]
  },
  {
   "cell_type": "code",
   "execution_count": 5,
   "id": "5c283fd3-13ea-453d-8b31-85c843db3e94",
   "metadata": {},
   "outputs": [],
   "source": [
    "dataSet = pd.get_dummies(dataSet, drop_first=True)"
   ]
  },
  {
   "cell_type": "code",
   "execution_count": 7,
   "id": "c2588483-4dd0-4bab-a4ad-ab1d906a3824",
   "metadata": {},
   "outputs": [],
   "source": [
    "independent = dataSet[['R&D Spend', 'Administration', 'Marketing Spend', 'State_Florida', 'State_New York']]\n",
    "dependent = dataSet[['Profit']]"
   ]
  },
  {
   "cell_type": "code",
   "execution_count": 9,
   "id": "1323f824-ac61-4c57-8bc1-017275ccff1b",
   "metadata": {},
   "outputs": [],
   "source": [
    "# Define the model\n",
    "model = SVR()"
   ]
  },
  {
   "cell_type": "code",
   "execution_count": 11,
   "id": "0da3a4a9-abe9-4a4a-b442-6fe99625f73b",
   "metadata": {},
   "outputs": [],
   "source": [
    "# Define parameter grid\n",
    "param_grid = {\n",
    "   # 'C': [0.1, 1, 10, 100],  # Regularization parameter\n",
    "   # 'epsilon': [0.01, 0.1, 0.2],  # Epsilon parameter\n",
    "    'kernel': ['linear', 'poly', 'rbf', 'sigmoid'],  # Type of kernel\n",
    "   # 'degree': [2, 3, 4],  # Degree of the polynomial kernel (only for 'poly' kernel)\n",
    "   # 'gamma': ['scale', 'auto', 0.1, 1, 10],  # Kernel coefficient (only for 'rbf', 'poly', 'sigmoid')\n",
    "     'gamma': ['scale', 'auto'],  # Kernel coefficient (only for 'rbf', 'poly', 'sigmoid')\n",
    "   # 'coef0': [0, 0.1, 0.5, 1],  # Independent term in kernel (only for 'poly' and 'sigmoid')\n",
    "   # 'shrinking': [True, False],  # Whether to use the shrinking heuristic\n",
    "   # 'tol': [1e-3, 1e-4],  # Tolerance for stopping criterion\n",
    "   # 'max_iter': [1000, 5000, -1]  # Maximum number of iterations (-1 means no limit)\n",
    "}"
   ]
  },
  {
   "cell_type": "code",
   "execution_count": null,
   "id": "c0ae0348-062b-475b-a81b-c1ac10ca7c60",
   "metadata": {},
   "outputs": [],
   "source": [
    "# Set up GridSearchCV\n",
    "gridSearchCV = GridSearchCV(estimator=model, param_grid=param_grid, refit=True, cv=5, n_jobs=1, verbose=3)"
   ]
  },
  {
   "cell_type": "code",
   "execution_count": null,
   "id": "ada49e9e-1259-4fcf-8906-1c60f7730dd1",
   "metadata": {},
   "outputs": [],
   "source": [
    "gridSearchCV.fit(independent, dependent)"
   ]
  }
 ],
 "metadata": {
  "kernelspec": {
   "display_name": "Python 3 (ipykernel)",
   "language": "python",
   "name": "python3"
  },
  "language_info": {
   "codemirror_mode": {
    "name": "ipython",
    "version": 3
   },
   "file_extension": ".py",
   "mimetype": "text/x-python",
   "name": "python",
   "nbconvert_exporter": "python",
   "pygments_lexer": "ipython3",
   "version": "3.12.4"
  }
 },
 "nbformat": 4,
 "nbformat_minor": 5
}
