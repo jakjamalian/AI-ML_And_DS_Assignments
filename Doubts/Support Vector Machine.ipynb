{
 "cells": [
  {
   "cell_type": "code",
   "execution_count": 1,
   "id": "b9d41b9f-033f-4e1b-baee-ecb2b9d69a03",
   "metadata": {},
   "outputs": [],
   "source": [
    "import pandas as pd\n",
    "from sklearn.svm import SVR\n",
    "from sklearn.model_selection import GridSearchCV\n",
    "\n",
    "dataSet = pd.read_csv(\"50_Startups.csv\")\n",
    "\n",
    "dataSet = pd.get_dummies(dataSet, drop_first=True)\n",
    "\n",
    "independent = dataSet[['R&D Spend', 'Administration', 'Marketing Spend', 'State_Florida', 'State_New York']]\n",
    "\n",
    "dependent = dataSet[['Profit']]"
   ]
  },
  {
   "cell_type": "code",
   "execution_count": null,
   "id": "3f21e482-0acb-4f46-bc0c-8ee94ee6beea",
   "metadata": {},
   "outputs": [
    {
     "name": "stdout",
     "output_type": "stream",
     "text": [
      "Fitting 5 folds for each of 8 candidates, totalling 40 fits\n"
     ]
    },
    {
     "name": "stderr",
     "output_type": "stream",
     "text": [
      "C:\\Users\\mjamalahamed\\AppData\\Local\\anaconda3\\Lib\\site-packages\\sklearn\\utils\\validation.py:1300: DataConversionWarning: A column-vector y was passed when a 1d array was expected. Please change the shape of y to (n_samples, ), for example using ravel().\n",
      "  y = column_or_1d(y, warn=True)\n"
     ]
    },
    {
     "name": "stdout",
     "output_type": "stream",
     "text": [
      "[CV 1/5] END ........gamma=scale, kernel=linear;, score=0.808 total time=  42.7s\n"
     ]
    },
    {
     "name": "stderr",
     "output_type": "stream",
     "text": [
      "C:\\Users\\mjamalahamed\\AppData\\Local\\anaconda3\\Lib\\site-packages\\sklearn\\utils\\validation.py:1300: DataConversionWarning: A column-vector y was passed when a 1d array was expected. Please change the shape of y to (n_samples, ), for example using ravel().\n",
      "  y = column_or_1d(y, warn=True)\n"
     ]
    },
    {
     "name": "stdout",
     "output_type": "stream",
     "text": [
      "[CV 2/5] END .......gamma=scale, kernel=linear;, score=-2.194 total time=   3.9s\n"
     ]
    },
    {
     "name": "stderr",
     "output_type": "stream",
     "text": [
      "C:\\Users\\mjamalahamed\\AppData\\Local\\anaconda3\\Lib\\site-packages\\sklearn\\utils\\validation.py:1300: DataConversionWarning: A column-vector y was passed when a 1d array was expected. Please change the shape of y to (n_samples, ), for example using ravel().\n",
      "  y = column_or_1d(y, warn=True)\n"
     ]
    },
    {
     "name": "stdout",
     "output_type": "stream",
     "text": [
      "[CV 3/5] END .......gamma=scale, kernel=linear;, score=-0.190 total time=  16.8s\n"
     ]
    },
    {
     "name": "stderr",
     "output_type": "stream",
     "text": [
      "C:\\Users\\mjamalahamed\\AppData\\Local\\anaconda3\\Lib\\site-packages\\sklearn\\utils\\validation.py:1300: DataConversionWarning: A column-vector y was passed when a 1d array was expected. Please change the shape of y to (n_samples, ), for example using ravel().\n",
      "  y = column_or_1d(y, warn=True)\n"
     ]
    },
    {
     "name": "stdout",
     "output_type": "stream",
     "text": [
      "[CV 4/5] END .......gamma=scale, kernel=linear;, score=-2.368 total time=  41.8s\n"
     ]
    },
    {
     "name": "stderr",
     "output_type": "stream",
     "text": [
      "C:\\Users\\mjamalahamed\\AppData\\Local\\anaconda3\\Lib\\site-packages\\sklearn\\utils\\validation.py:1300: DataConversionWarning: A column-vector y was passed when a 1d array was expected. Please change the shape of y to (n_samples, ), for example using ravel().\n",
      "  y = column_or_1d(y, warn=True)\n"
     ]
    },
    {
     "name": "stdout",
     "output_type": "stream",
     "text": [
      "[CV 5/5] END ........gamma=scale, kernel=linear;, score=0.465 total time=  18.2s\n",
      "[CV 1/5] END ........gamma=scale, kernel=poly;, score=-16.262 total time=   0.0s\n",
      "[CV 2/5] END ........gamma=scale, kernel=poly;, score=-15.747 total time=   0.0s\n",
      "[CV 3/5] END .........gamma=scale, kernel=poly;, score=-0.557 total time=   0.0s\n",
      "[CV 4/5] END ........gamma=scale, kernel=poly;, score=-18.228 total time=   0.0s\n",
      "[CV 5/5] END ........gamma=scale, kernel=poly;, score=-10.375 total time=   0.0s\n",
      "[CV 1/5] END .........gamma=scale, kernel=rbf;, score=-16.525 total time=   0.0s\n",
      "[CV 2/5] END .........gamma=scale, kernel=rbf;, score=-15.876 total time=   0.0s\n",
      "[CV 3/5] END ..........gamma=scale, kernel=rbf;, score=-0.535 total time=   0.0s\n",
      "[CV 4/5] END .........gamma=scale, kernel=rbf;, score=-18.276 total time=   0.0s\n",
      "[CV 5/5] END .........gamma=scale, kernel=rbf;, score=-10.391 total time=   0.0s\n",
      "[CV 1/5] END .....gamma=scale, kernel=sigmoid;, score=-16.530 total time=   0.0s\n",
      "[CV 2/5] END .....gamma=scale, kernel=sigmoid;, score=-15.885 total time=   0.0s\n",
      "[CV 3/5] END ......gamma=scale, kernel=sigmoid;, score=-0.535 total time=   0.0s\n",
      "[CV 4/5] END .....gamma=scale, kernel=sigmoid;, score=-18.280 total time=   0.0s\n",
      "[CV 5/5] END .....gamma=scale, kernel=sigmoid;, score=-10.392 total time=   0.0s\n"
     ]
    },
    {
     "name": "stderr",
     "output_type": "stream",
     "text": [
      "C:\\Users\\mjamalahamed\\AppData\\Local\\anaconda3\\Lib\\site-packages\\sklearn\\utils\\validation.py:1300: DataConversionWarning: A column-vector y was passed when a 1d array was expected. Please change the shape of y to (n_samples, ), for example using ravel().\n",
      "  y = column_or_1d(y, warn=True)\n",
      "C:\\Users\\mjamalahamed\\AppData\\Local\\anaconda3\\Lib\\site-packages\\sklearn\\utils\\validation.py:1300: DataConversionWarning: A column-vector y was passed when a 1d array was expected. Please change the shape of y to (n_samples, ), for example using ravel().\n",
      "  y = column_or_1d(y, warn=True)\n",
      "C:\\Users\\mjamalahamed\\AppData\\Local\\anaconda3\\Lib\\site-packages\\sklearn\\utils\\validation.py:1300: DataConversionWarning: A column-vector y was passed when a 1d array was expected. Please change the shape of y to (n_samples, ), for example using ravel().\n",
      "  y = column_or_1d(y, warn=True)\n",
      "C:\\Users\\mjamalahamed\\AppData\\Local\\anaconda3\\Lib\\site-packages\\sklearn\\utils\\validation.py:1300: DataConversionWarning: A column-vector y was passed when a 1d array was expected. Please change the shape of y to (n_samples, ), for example using ravel().\n",
      "  y = column_or_1d(y, warn=True)\n",
      "C:\\Users\\mjamalahamed\\AppData\\Local\\anaconda3\\Lib\\site-packages\\sklearn\\utils\\validation.py:1300: DataConversionWarning: A column-vector y was passed when a 1d array was expected. Please change the shape of y to (n_samples, ), for example using ravel().\n",
      "  y = column_or_1d(y, warn=True)\n",
      "C:\\Users\\mjamalahamed\\AppData\\Local\\anaconda3\\Lib\\site-packages\\sklearn\\utils\\validation.py:1300: DataConversionWarning: A column-vector y was passed when a 1d array was expected. Please change the shape of y to (n_samples, ), for example using ravel().\n",
      "  y = column_or_1d(y, warn=True)\n",
      "C:\\Users\\mjamalahamed\\AppData\\Local\\anaconda3\\Lib\\site-packages\\sklearn\\utils\\validation.py:1300: DataConversionWarning: A column-vector y was passed when a 1d array was expected. Please change the shape of y to (n_samples, ), for example using ravel().\n",
      "  y = column_or_1d(y, warn=True)\n",
      "C:\\Users\\mjamalahamed\\AppData\\Local\\anaconda3\\Lib\\site-packages\\sklearn\\utils\\validation.py:1300: DataConversionWarning: A column-vector y was passed when a 1d array was expected. Please change the shape of y to (n_samples, ), for example using ravel().\n",
      "  y = column_or_1d(y, warn=True)\n",
      "C:\\Users\\mjamalahamed\\AppData\\Local\\anaconda3\\Lib\\site-packages\\sklearn\\utils\\validation.py:1300: DataConversionWarning: A column-vector y was passed when a 1d array was expected. Please change the shape of y to (n_samples, ), for example using ravel().\n",
      "  y = column_or_1d(y, warn=True)\n",
      "C:\\Users\\mjamalahamed\\AppData\\Local\\anaconda3\\Lib\\site-packages\\sklearn\\utils\\validation.py:1300: DataConversionWarning: A column-vector y was passed when a 1d array was expected. Please change the shape of y to (n_samples, ), for example using ravel().\n",
      "  y = column_or_1d(y, warn=True)\n",
      "C:\\Users\\mjamalahamed\\AppData\\Local\\anaconda3\\Lib\\site-packages\\sklearn\\utils\\validation.py:1300: DataConversionWarning: A column-vector y was passed when a 1d array was expected. Please change the shape of y to (n_samples, ), for example using ravel().\n",
      "  y = column_or_1d(y, warn=True)\n",
      "C:\\Users\\mjamalahamed\\AppData\\Local\\anaconda3\\Lib\\site-packages\\sklearn\\utils\\validation.py:1300: DataConversionWarning: A column-vector y was passed when a 1d array was expected. Please change the shape of y to (n_samples, ), for example using ravel().\n",
      "  y = column_or_1d(y, warn=True)\n",
      "C:\\Users\\mjamalahamed\\AppData\\Local\\anaconda3\\Lib\\site-packages\\sklearn\\utils\\validation.py:1300: DataConversionWarning: A column-vector y was passed when a 1d array was expected. Please change the shape of y to (n_samples, ), for example using ravel().\n",
      "  y = column_or_1d(y, warn=True)\n",
      "C:\\Users\\mjamalahamed\\AppData\\Local\\anaconda3\\Lib\\site-packages\\sklearn\\utils\\validation.py:1300: DataConversionWarning: A column-vector y was passed when a 1d array was expected. Please change the shape of y to (n_samples, ), for example using ravel().\n",
      "  y = column_or_1d(y, warn=True)\n",
      "C:\\Users\\mjamalahamed\\AppData\\Local\\anaconda3\\Lib\\site-packages\\sklearn\\utils\\validation.py:1300: DataConversionWarning: A column-vector y was passed when a 1d array was expected. Please change the shape of y to (n_samples, ), for example using ravel().\n",
      "  y = column_or_1d(y, warn=True)\n",
      "C:\\Users\\mjamalahamed\\AppData\\Local\\anaconda3\\Lib\\site-packages\\sklearn\\utils\\validation.py:1300: DataConversionWarning: A column-vector y was passed when a 1d array was expected. Please change the shape of y to (n_samples, ), for example using ravel().\n",
      "  y = column_or_1d(y, warn=True)\n"
     ]
    },
    {
     "name": "stdout",
     "output_type": "stream",
     "text": [
      "[CV 1/5] END .........gamma=auto, kernel=linear;, score=0.808 total time=  45.6s\n"
     ]
    },
    {
     "name": "stderr",
     "output_type": "stream",
     "text": [
      "C:\\Users\\mjamalahamed\\AppData\\Local\\anaconda3\\Lib\\site-packages\\sklearn\\utils\\validation.py:1300: DataConversionWarning: A column-vector y was passed when a 1d array was expected. Please change the shape of y to (n_samples, ), for example using ravel().\n",
      "  y = column_or_1d(y, warn=True)\n"
     ]
    },
    {
     "name": "stdout",
     "output_type": "stream",
     "text": [
      "[CV 2/5] END ........gamma=auto, kernel=linear;, score=-2.194 total time=   4.5s\n"
     ]
    },
    {
     "name": "stderr",
     "output_type": "stream",
     "text": [
      "C:\\Users\\mjamalahamed\\AppData\\Local\\anaconda3\\Lib\\site-packages\\sklearn\\utils\\validation.py:1300: DataConversionWarning: A column-vector y was passed when a 1d array was expected. Please change the shape of y to (n_samples, ), for example using ravel().\n",
      "  y = column_or_1d(y, warn=True)\n"
     ]
    },
    {
     "name": "stdout",
     "output_type": "stream",
     "text": [
      "[CV 3/5] END ........gamma=auto, kernel=linear;, score=-0.190 total time=  18.5s\n"
     ]
    },
    {
     "name": "stderr",
     "output_type": "stream",
     "text": [
      "C:\\Users\\mjamalahamed\\AppData\\Local\\anaconda3\\Lib\\site-packages\\sklearn\\utils\\validation.py:1300: DataConversionWarning: A column-vector y was passed when a 1d array was expected. Please change the shape of y to (n_samples, ), for example using ravel().\n",
      "  y = column_or_1d(y, warn=True)\n"
     ]
    },
    {
     "name": "stdout",
     "output_type": "stream",
     "text": [
      "[CV 4/5] END ........gamma=auto, kernel=linear;, score=-2.368 total time=  44.3s\n"
     ]
    },
    {
     "name": "stderr",
     "output_type": "stream",
     "text": [
      "C:\\Users\\mjamalahamed\\AppData\\Local\\anaconda3\\Lib\\site-packages\\sklearn\\utils\\validation.py:1300: DataConversionWarning: A column-vector y was passed when a 1d array was expected. Please change the shape of y to (n_samples, ), for example using ravel().\n",
      "  y = column_or_1d(y, warn=True)\n"
     ]
    },
    {
     "name": "stdout",
     "output_type": "stream",
     "text": [
      "[CV 5/5] END .........gamma=auto, kernel=linear;, score=0.465 total time=  18.5s\n"
     ]
    },
    {
     "name": "stderr",
     "output_type": "stream",
     "text": [
      "C:\\Users\\mjamalahamed\\AppData\\Local\\anaconda3\\Lib\\site-packages\\sklearn\\utils\\validation.py:1300: DataConversionWarning: A column-vector y was passed when a 1d array was expected. Please change the shape of y to (n_samples, ), for example using ravel().\n",
      "  y = column_or_1d(y, warn=True)\n"
     ]
    }
   ],
   "source": [
    "\n",
    "# Define the model\n",
    "model = SVR()\n",
    "\n",
    "# Define parameter grid\n",
    "param_grid = {\n",
    "   # 'C': [0.1, 1, 10, 100],  # Regularization parameter\n",
    "   # 'epsilon': [0.01, 0.1, 0.2],  # Epsilon parameter\n",
    "    'kernel': ['linear', 'poly', 'rbf', 'sigmoid'],  # Type of kernel\n",
    "   # 'degree': [2, 3, 4],  # Degree of the polynomial kernel (only for 'poly' kernel)\n",
    "   # 'gamma': ['scale', 'auto', 0.1, 1, 10],  # Kernel coefficient (only for 'rbf', 'poly', 'sigmoid')\n",
    "     'gamma': ['scale', 'auto'],  # Kernel coefficient (only for 'rbf', 'poly', 'sigmoid')\n",
    "   # 'coef0': [0, 0.1, 0.5, 1],  # Independent term in kernel (only for 'poly' and 'sigmoid')\n",
    "   # 'shrinking': [True, False],  # Whether to use the shrinking heuristic\n",
    "   # 'tol': [1e-3, 1e-4],  # Tolerance for stopping criterion\n",
    "   # 'max_iter': [1000, 5000, -1]  # Maximum number of iterations (-1 means no limit)\n",
    "}\n",
    "\n",
    "# Set up GridSearchCV\n",
    "gridSearchCV = GridSearchCV(estimator=model, param_grid=param_grid, refit=True, cv=5, n_jobs=1, verbose=3)\n",
    "gridSearchCV.fit(independent, dependent)"
   ]
  },
  {
   "cell_type": "code",
   "execution_count": null,
   "id": "1a222a4d-6f2b-4dee-9ad5-822bb99b2468",
   "metadata": {},
   "outputs": [],
   "source": [
    "bestParams = gridSearchCV.best_params_\n",
    "\n",
    "print('bestParams = ', bestParams)\n",
    "\n",
    "cv_results = gridSearchCV.cv_results_\n",
    "\n",
    "tableFormat = pd.DataFrame.from_dict(cv_results)\n",
    "\n",
    "tableFormat\n",
    "\n",
    "age = 31\n",
    "bmi = 43\n",
    "children = 2\n",
    "sex = 1\n",
    "smoker = 1\n",
    "\n",
    "predictedResult = gridSearchCV.predict([[age, bmi, children, sex, smoker]])\n",
    "\n",
    "print('predictedResult = ', predictedResult)"
   ]
  }
 ],
 "metadata": {
  "kernelspec": {
   "display_name": "Python 3 (ipykernel)",
   "language": "python",
   "name": "python3"
  },
  "language_info": {
   "codemirror_mode": {
    "name": "ipython",
    "version": 3
   },
   "file_extension": ".py",
   "mimetype": "text/x-python",
   "name": "python",
   "nbconvert_exporter": "python",
   "pygments_lexer": "ipython3",
   "version": "3.12.4"
  }
 },
 "nbformat": 4,
 "nbformat_minor": 5
}
